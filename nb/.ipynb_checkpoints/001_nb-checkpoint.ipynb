{
 "cells": [
  {
   "cell_type": "code",
   "execution_count": 1,
   "id": "7aaa8c70-a30a-4766-b606-c09110e6a25b",
   "metadata": {},
   "outputs": [
    {
     "name": "stdout",
     "output_type": "stream",
     "text": [
      "Requirement already satisfied: matplotlib_venn in /Users/misawamasafumi/opt/anaconda3/lib/python3.8/site-packages (0.11.6)\n",
      "Requirement already satisfied: scipy in /Users/misawamasafumi/opt/anaconda3/lib/python3.8/site-packages (from matplotlib_venn) (1.6.2)\n",
      "Requirement already satisfied: matplotlib in /Users/misawamasafumi/opt/anaconda3/lib/python3.8/site-packages (from matplotlib_venn) (3.3.4)\n",
      "Requirement already satisfied: numpy in /Users/misawamasafumi/opt/anaconda3/lib/python3.8/site-packages (from matplotlib_venn) (1.20.1)\n",
      "Requirement already satisfied: python-dateutil>=2.1 in /Users/misawamasafumi/opt/anaconda3/lib/python3.8/site-packages (from matplotlib->matplotlib_venn) (2.8.1)\n",
      "Requirement already satisfied: pillow>=6.2.0 in /Users/misawamasafumi/opt/anaconda3/lib/python3.8/site-packages (from matplotlib->matplotlib_venn) (8.2.0)\n",
      "Requirement already satisfied: pyparsing!=2.0.4,!=2.1.2,!=2.1.6,>=2.0.3 in /Users/misawamasafumi/opt/anaconda3/lib/python3.8/site-packages (from matplotlib->matplotlib_venn) (2.4.7)\n",
      "Requirement already satisfied: cycler>=0.10 in /Users/misawamasafumi/opt/anaconda3/lib/python3.8/site-packages (from matplotlib->matplotlib_venn) (0.10.0)\n",
      "Requirement already satisfied: kiwisolver>=1.0.1 in /Users/misawamasafumi/opt/anaconda3/lib/python3.8/site-packages (from matplotlib->matplotlib_venn) (1.3.1)\n",
      "Requirement already satisfied: six in /Users/misawamasafumi/opt/anaconda3/lib/python3.8/site-packages (from cycler>=0.10->matplotlib->matplotlib_venn) (1.15.0)\n"
     ]
    }
   ],
   "source": [
    "!pip install matplotlib_venn"
   ]
  },
  {
   "cell_type": "code",
   "execution_count": 2,
   "id": "a8bcea7f-fd4e-4e3a-8e4c-6fc4c03ef179",
   "metadata": {},
   "outputs": [],
   "source": [
    "import os\n",
    "\n",
    "import pandas as pd\n",
    "import matplotlib.pyplot as plt\n",
    "import seaborn as sns\n",
    "import numpy as np\n",
    "\n",
    "from pandas_profiling import ProfileReport # profile report を作る用\n",
    "from matplotlib_venn import venn2 # venn図を作成する用"
   ]
  },
  {
   "cell_type": "code",
   "execution_count": 5,
   "id": "ed4c1691-d602-4462-8a09-d280c9916801",
   "metadata": {},
   "outputs": [],
   "source": [
    "INPUT_DIR = '../datasets/'\n",
    "OUTPUT_DIR = '../outputs/'\n",
    "\n",
    "os.makedirs(OUTPUT_DIR, exist_ok=True)\n",
    "\n",
    "train_df = pd.read_csv(os.path.join(INPUT_DIR, 'train.csv'))\n",
    "test_df = pd.read_csv(os.path.join(INPUT_DIR, 'test.csv'))"
   ]
  },
  {
   "cell_type": "code",
   "execution_count": 6,
   "id": "aff04595-df1b-4215-aed2-7504ea0067ec",
   "metadata": {},
   "outputs": [
    {
     "data": {
      "application/vnd.jupyter.widget-view+json": {
       "model_id": "9975db0f59ee4b21a3a4975a940ac162",
       "version_major": 2,
       "version_minor": 0
      },
      "text/plain": [
       "Summarize dataset:   0%|          | 0/32 [00:00<?, ?it/s]"
      ]
     },
     "metadata": {},
     "output_type": "display_data"
    },
    {
     "data": {
      "application/vnd.jupyter.widget-view+json": {
       "model_id": "f92b4461a84d4937bc10abd025eb9141",
       "version_major": 2,
       "version_minor": 0
      },
      "text/plain": [
       "Generate report structure:   0%|          | 0/1 [00:00<?, ?it/s]"
      ]
     },
     "metadata": {},
     "output_type": "display_data"
    },
    {
     "data": {
      "application/vnd.jupyter.widget-view+json": {
       "model_id": "539b3bd910dd468e96fad4158596e464",
       "version_major": 2,
       "version_minor": 0
      },
      "text/plain": [
       "Render HTML:   0%|          | 0/1 [00:00<?, ?it/s]"
      ]
     },
     "metadata": {},
     "output_type": "display_data"
    },
    {
     "data": {
      "application/vnd.jupyter.widget-view+json": {
       "model_id": "31bfb25a5f904ef9ae90e345ac978ed2",
       "version_major": 2,
       "version_minor": 0
      },
      "text/plain": [
       "Export report to file:   0%|          | 0/1 [00:00<?, ?it/s]"
      ]
     },
     "metadata": {},
     "output_type": "display_data"
    }
   ],
   "source": [
    "# Profileの作成\n",
    "report = ProfileReport(train_df)\n",
    "report.to_file(os.path.join(OUTPUT_DIR, \"train_report.html\"))"
   ]
  },
  {
   "cell_type": "code",
   "execution_count": 7,
   "id": "9be33a95-338e-4f73-a8da-feb31816455a",
   "metadata": {},
   "outputs": [
    {
     "data": {
      "application/vnd.jupyter.widget-view+json": {
       "model_id": "3187f12f69fd450caa7e82e3c28fe3f4",
       "version_major": 2,
       "version_minor": 0
      },
      "text/plain": [
       "Summarize dataset:   0%|          | 0/31 [00:00<?, ?it/s]"
      ]
     },
     "metadata": {},
     "output_type": "display_data"
    },
    {
     "data": {
      "application/vnd.jupyter.widget-view+json": {
       "model_id": "0647cfd4d2b04c23a2ed89c326b1d2dd",
       "version_major": 2,
       "version_minor": 0
      },
      "text/plain": [
       "Generate report structure:   0%|          | 0/1 [00:00<?, ?it/s]"
      ]
     },
     "metadata": {},
     "output_type": "display_data"
    },
    {
     "data": {
      "application/vnd.jupyter.widget-view+json": {
       "model_id": "74a291dcb9f143d3b74b93618f810b18",
       "version_major": 2,
       "version_minor": 0
      },
      "text/plain": [
       "Render HTML:   0%|          | 0/1 [00:00<?, ?it/s]"
      ]
     },
     "metadata": {},
     "output_type": "display_data"
    },
    {
     "data": {
      "application/vnd.jupyter.widget-view+json": {
       "model_id": "ecbfd0604d80487e868910a23033876b",
       "version_major": 2,
       "version_minor": 0
      },
      "text/plain": [
       "Export report to file:   0%|          | 0/1 [00:00<?, ?it/s]"
      ]
     },
     "metadata": {},
     "output_type": "display_data"
    }
   ],
   "source": [
    "# Profileの作成\n",
    "report = ProfileReport(test_df)\n",
    "report.to_file(os.path.join(OUTPUT_DIR, \"test_report.html\"))"
   ]
  },
  {
   "cell_type": "code",
   "execution_count": null,
   "id": "ce31229b-1f2e-43fb-abbe-693e196804cb",
   "metadata": {},
   "outputs": [],
   "source": []
  },
  {
   "cell_type": "code",
   "execution_count": 18,
   "id": "d1988247-af10-4a01-8693-0c8728268f35",
   "metadata": {},
   "outputs": [],
   "source": [
    "# trainとtestのデータの被りの確認\n",
    "def plot_intersection(left, right, column, set_labels, ax=None):\n",
    "    left_set = set(left[column])\n",
    "    right_set = set(right[column])\n",
    "    venn2(subsets=(left_set, right_set), set_labels=set_labels, ax=ax)\n",
    "    return ax\n",
    "\n",
    "def plot_right_left_intersection(train_df, test_df, columns='__all__'):\n",
    "    \"\"\"2つのデータフレームのカラムの共通集合を可視化\"\"\"\n",
    "    if columns == '__all__':\n",
    "#       set(): Pythonの集合クラス。セットには集合演算を行うための演算子やメソッドが用意されている\n",
    "        columns = set(train_df.columns) & set(test_df.columns)\n",
    "            \n",
    "    columns = list(columns)\n",
    "    nfigs = len(columns)\n",
    "    ncols = 6\n",
    "    nrows = - (- nfigs // ncols)\n",
    "    fig, axes = plt.subplots(figsize=(3 * ncols, 3 * nrows), ncols=ncols, nrows=nrows)\n",
    "    axes = np.ravel(axes)\n",
    "    for c, ax in zip(columns, axes):\n",
    "        plot_intersection(train_df, test_df, column=c, set_labels=('Train', 'Test'), ax=ax)\n",
    "        ax.set_title(c)\n",
    "    return fig, ax"
   ]
  },
  {
   "cell_type": "code",
   "execution_count": 19,
   "id": "ded7187f-e149-4a49-9698-4a8fd310377c",
   "metadata": {},
   "outputs": [
    {
     "data": {
      "image/png": "[encoded data removed]",
      "text/plain": [
       "<Figure size 1296x648 with 18 Axes>"
      ]
     },
     "metadata": {},
     "output_type": "display_data"
    }
   ],
   "source": [
    "fig_features = list(test_df.columns)\n",
    "\n",
    "train_fig = train_df[fig_features]\n",
    "test_fig = test_df[fig_features]\n",
    "fig, _ = plot_right_left_intersection(train_fig, test_fig)\n",
    "fig.tight_layout()"
   ]
  },
  {
   "cell_type": "code",
   "execution_count": null,
   "id": "157bfc52-f6e0-4eea-a6e2-d00b61ca03b5",
   "metadata": {},
   "outputs": [],
   "source": []
  },
  {
   "cell_type": "code",
   "execution_count": null,
   "id": "33e8c697-d09c-4043-8415-8e154627a757",
   "metadata": {},
   "outputs": [],
   "source": []
  },
  {
   "cell_type": "code",
   "execution_count": 27,
   "id": "8ecd2309-795e-4422-b747-2fc8dfdaad8e",
   "metadata": {},
   "outputs": [
    {
     "name": "stdout",
     "output_type": "stream",
     "text": [
      "===================\n",
      "principal_maker\n",
      "A. Böeseken                  5\n",
      "A. Cucumus & Cie.            1\n",
      "A. Davanne & M. Aleo         1\n",
      "A. Doyen                     1\n",
      "A. Fortier                   1\n",
      "                            ..\n",
      "weduwe Jacobus van Egmont    1\n",
      "Édouard Denis Baldus         8\n",
      "Émile Bernard                1\n",
      "Émile Fürst                  1\n",
      "Étienne Neurdein             9\n",
      "Length: 2221, dtype: int64\n",
      "===================\n",
      "principal_maker\n",
      "A. Böeseken                  5\n",
      "A. Cucumus & Cie.            1\n",
      "A. Davanne & M. Aleo         1\n",
      "A. Doyen                     1\n",
      "A. Fortier                   1\n",
      "                            ..\n",
      "weduwe Jacobus van Egmont    1\n",
      "Édouard Denis Baldus         7\n",
      "Émile Bernard                1\n",
      "Émile Fürst                  1\n",
      "Étienne Neurdein             7\n",
      "Name: sub_title, Length: 2221, dtype: int64\n",
      "===================\n"
     ]
    },
    {
     "data": {
      "text/html": [
       "<div>\n",
       "<style scoped>\n",
       "    .dataframe tbody tr th:only-of-type {\n",
       "        vertical-align: middle;\n",
       "    }\n",
       "\n",
       "    .dataframe tbody tr th {\n",
       "        vertical-align: top;\n",
       "    }\n",
       "\n",
       "    .dataframe thead th {\n",
       "        text-align: right;\n",
       "    }\n",
       "</style>\n",
       "<table border=\"1\" class=\"dataframe\">\n",
       "  <thead>\n",
       "    <tr style=\"text-align: right;\">\n",
       "      <th></th>\n",
       "      <th>min</th>\n",
       "      <th>max</th>\n",
       "      <th>mean</th>\n",
       "    </tr>\n",
       "    <tr>\n",
       "      <th>principal_maker</th>\n",
       "      <th></th>\n",
       "      <th></th>\n",
       "      <th></th>\n",
       "    </tr>\n",
       "  </thead>\n",
       "  <tbody>\n",
       "    <tr>\n",
       "      <th>A. Böeseken</th>\n",
       "      <td>1858.0</td>\n",
       "      <td>1873.0</td>\n",
       "      <td>1865.800000</td>\n",
       "    </tr>\n",
       "    <tr>\n",
       "      <th>A. Cucumus &amp; Cie.</th>\n",
       "      <td>1870.0</td>\n",
       "      <td>1870.0</td>\n",
       "      <td>1870.000000</td>\n",
       "    </tr>\n",
       "    <tr>\n",
       "      <th>A. Davanne &amp; M. Aleo</th>\n",
       "      <td>1850.0</td>\n",
       "      <td>1850.0</td>\n",
       "      <td>1850.000000</td>\n",
       "    </tr>\n",
       "    <tr>\n",
       "      <th>A. Doyen</th>\n",
       "      <td>1840.0</td>\n",
       "      <td>1840.0</td>\n",
       "      <td>1840.000000</td>\n",
       "    </tr>\n",
       "    <tr>\n",
       "      <th>A. Fortier</th>\n",
       "      <td>1850.0</td>\n",
       "      <td>1850.0</td>\n",
       "      <td>1850.000000</td>\n",
       "    </tr>\n",
       "    <tr>\n",
       "      <th>...</th>\n",
       "      <td>...</td>\n",
       "      <td>...</td>\n",
       "      <td>...</td>\n",
       "    </tr>\n",
       "    <tr>\n",
       "      <th>weduwe Jacobus van Egmont</th>\n",
       "      <td>1724.0</td>\n",
       "      <td>1724.0</td>\n",
       "      <td>1724.000000</td>\n",
       "    </tr>\n",
       "    <tr>\n",
       "      <th>Édouard Denis Baldus</th>\n",
       "      <td>1855.0</td>\n",
       "      <td>1861.0</td>\n",
       "      <td>1857.750000</td>\n",
       "    </tr>\n",
       "    <tr>\n",
       "      <th>Émile Bernard</th>\n",
       "      <td>1897.0</td>\n",
       "      <td>1897.0</td>\n",
       "      <td>1897.000000</td>\n",
       "    </tr>\n",
       "    <tr>\n",
       "      <th>Émile Fürst</th>\n",
       "      <td>1864.0</td>\n",
       "      <td>1864.0</td>\n",
       "      <td>1864.000000</td>\n",
       "    </tr>\n",
       "    <tr>\n",
       "      <th>Étienne Neurdein</th>\n",
       "      <td>1860.0</td>\n",
       "      <td>1880.0</td>\n",
       "      <td>1877.777778</td>\n",
       "    </tr>\n",
       "  </tbody>\n",
       "</table>\n",
       "<p>2221 rows × 3 columns</p>\n",
       "</div>"
      ],
      "text/plain": [
       "                              min     max         mean\n",
       "principal_maker                                       \n",
       "A. Böeseken                1858.0  1873.0  1865.800000\n",
       "A. Cucumus & Cie.          1870.0  1870.0  1870.000000\n",
       "A. Davanne & M. Aleo       1850.0  1850.0  1850.000000\n",
       "A. Doyen                   1840.0  1840.0  1840.000000\n",
       "A. Fortier                 1850.0  1850.0  1850.000000\n",
       "...                           ...     ...          ...\n",
       "weduwe Jacobus van Egmont  1724.0  1724.0  1724.000000\n",
       "Édouard Denis Baldus       1855.0  1861.0  1857.750000\n",
       "Émile Bernard              1897.0  1897.0  1897.000000\n",
       "Émile Fürst                1864.0  1864.0  1864.000000\n",
       "Étienne Neurdein           1860.0  1880.0  1877.777778\n",
       "\n",
       "[2221 rows x 3 columns]"
      ]
     },
     "execution_count": 27,
     "metadata": {},
     "output_type": "execute_result"
    }
   ],
   "source": [
    "group = train_df.groupby('principal_maker')\n",
    "\n",
    "# groupbyで集約した後の、各要素の個数（value_countsと同等）\n",
    "print(\"===================\")\n",
    "print(group.size())\n",
    "\n",
    "# 著者ごとのサブタイトルの個数\n",
    "print(\"===================\")\n",
    "print(group[\"sub_title\"].nunique())\n",
    "\n",
    "# 著者ごとのサブタイトルの個数\n",
    "print(\"===================\")\n",
    "group[\"dating_sorting_date\"].agg(['min', 'max', 'mean'])\n",
    "# agg()にメソッド名を渡すと、同時に複数の処理をしてくれる"
   ]
  },
  {
   "cell_type": "code",
   "execution_count": 32,
   "id": "4106fe96-6234-4bab-8141-29bff07e0147",
   "metadata": {},
   "outputs": [
    {
     "data": {
      "text/html": [
       "<div>\n",
       "<style scoped>\n",
       "    .dataframe tbody tr th:only-of-type {\n",
       "        vertical-align: middle;\n",
       "    }\n",
       "\n",
       "    .dataframe tbody tr th {\n",
       "        vertical-align: top;\n",
       "    }\n",
       "\n",
       "    .dataframe thead th {\n",
       "        text-align: right;\n",
       "    }\n",
       "</style>\n",
       "<table border=\"1\" class=\"dataframe\">\n",
       "  <thead>\n",
       "    <tr style=\"text-align: right;\">\n",
       "      <th></th>\n",
       "      <th>size</th>\n",
       "      <th>sub_title</th>\n",
       "      <th>min</th>\n",
       "      <th>max</th>\n",
       "      <th>mean</th>\n",
       "    </tr>\n",
       "    <tr>\n",
       "      <th>principal_maker</th>\n",
       "      <th></th>\n",
       "      <th></th>\n",
       "      <th></th>\n",
       "      <th></th>\n",
       "      <th></th>\n",
       "    </tr>\n",
       "  </thead>\n",
       "  <tbody>\n",
       "    <tr>\n",
       "      <th>A. Böeseken</th>\n",
       "      <td>5</td>\n",
       "      <td>5</td>\n",
       "      <td>1858.0</td>\n",
       "      <td>1873.0</td>\n",
       "      <td>1865.800000</td>\n",
       "    </tr>\n",
       "    <tr>\n",
       "      <th>A. Cucumus &amp; Cie.</th>\n",
       "      <td>1</td>\n",
       "      <td>1</td>\n",
       "      <td>1870.0</td>\n",
       "      <td>1870.0</td>\n",
       "      <td>1870.000000</td>\n",
       "    </tr>\n",
       "    <tr>\n",
       "      <th>A. Davanne &amp; M. Aleo</th>\n",
       "      <td>1</td>\n",
       "      <td>1</td>\n",
       "      <td>1850.0</td>\n",
       "      <td>1850.0</td>\n",
       "      <td>1850.000000</td>\n",
       "    </tr>\n",
       "    <tr>\n",
       "      <th>A. Doyen</th>\n",
       "      <td>1</td>\n",
       "      <td>1</td>\n",
       "      <td>1840.0</td>\n",
       "      <td>1840.0</td>\n",
       "      <td>1840.000000</td>\n",
       "    </tr>\n",
       "    <tr>\n",
       "      <th>A. Fortier</th>\n",
       "      <td>1</td>\n",
       "      <td>1</td>\n",
       "      <td>1850.0</td>\n",
       "      <td>1850.0</td>\n",
       "      <td>1850.000000</td>\n",
       "    </tr>\n",
       "    <tr>\n",
       "      <th>...</th>\n",
       "      <td>...</td>\n",
       "      <td>...</td>\n",
       "      <td>...</td>\n",
       "      <td>...</td>\n",
       "      <td>...</td>\n",
       "    </tr>\n",
       "    <tr>\n",
       "      <th>weduwe Jacobus van Egmont</th>\n",
       "      <td>1</td>\n",
       "      <td>1</td>\n",
       "      <td>1724.0</td>\n",
       "      <td>1724.0</td>\n",
       "      <td>1724.000000</td>\n",
       "    </tr>\n",
       "    <tr>\n",
       "      <th>Édouard Denis Baldus</th>\n",
       "      <td>8</td>\n",
       "      <td>7</td>\n",
       "      <td>1855.0</td>\n",
       "      <td>1861.0</td>\n",
       "      <td>1857.750000</td>\n",
       "    </tr>\n",
       "    <tr>\n",
       "      <th>Émile Bernard</th>\n",
       "      <td>1</td>\n",
       "      <td>1</td>\n",
       "      <td>1897.0</td>\n",
       "      <td>1897.0</td>\n",
       "      <td>1897.000000</td>\n",
       "    </tr>\n",
       "    <tr>\n",
       "      <th>Émile Fürst</th>\n",
       "      <td>1</td>\n",
       "      <td>1</td>\n",
       "      <td>1864.0</td>\n",
       "      <td>1864.0</td>\n",
       "      <td>1864.000000</td>\n",
       "    </tr>\n",
       "    <tr>\n",
       "      <th>Étienne Neurdein</th>\n",
       "      <td>9</td>\n",
       "      <td>7</td>\n",
       "      <td>1860.0</td>\n",
       "      <td>1880.0</td>\n",
       "      <td>1877.777778</td>\n",
       "    </tr>\n",
       "  </tbody>\n",
       "</table>\n",
       "<p>2221 rows × 5 columns</p>\n",
       "</div>"
      ],
      "text/plain": [
       "                           size  sub_title     min     max         mean\n",
       "principal_maker                                                        \n",
       "A. Böeseken                   5          5  1858.0  1873.0  1865.800000\n",
       "A. Cucumus & Cie.             1          1  1870.0  1870.0  1870.000000\n",
       "A. Davanne & M. Aleo          1          1  1850.0  1850.0  1850.000000\n",
       "A. Doyen                      1          1  1840.0  1840.0  1840.000000\n",
       "A. Fortier                    1          1  1850.0  1850.0  1850.000000\n",
       "...                         ...        ...     ...     ...          ...\n",
       "weduwe Jacobus van Egmont     1          1  1724.0  1724.0  1724.000000\n",
       "Édouard Denis Baldus          8          7  1855.0  1861.0  1857.750000\n",
       "Émile Bernard                 1          1  1897.0  1897.0  1897.000000\n",
       "Émile Fürst                   1          1  1864.0  1864.0  1864.000000\n",
       "Étienne Neurdein              9          7  1860.0  1880.0  1877.777778\n",
       "\n",
       "[2221 rows x 5 columns]"
      ]
     },
     "execution_count": 32,
     "metadata": {},
     "output_type": "execute_result"
    }
   ],
   "source": [
    "# pandas.concatをaxis=1(横方向)に行うことで、複数の集約をまとめることができる\n",
    "\n",
    "agg_df = pd.concat([\n",
    "#     group.size(), このままだとカラム名が'0'なので、renameする\n",
    "    group.size().rename('size'),\n",
    "    group[\"sub_title\"].nunique(),\n",
    "    group[\"dating_sorting_date\"].agg(['min', 'max', 'mean'])\n",
    "], axis=1)\n",
    "\n",
    "agg_df"
   ]
  },
  {
   "cell_type": "code",
   "execution_count": null,
   "id": "1aa42a70-787a-4126-9d0f-18bbab2923b6",
   "metadata": {},
   "outputs": [],
   "source": []
  },
  {
   "cell_type": "code",
   "execution_count": 35,
   "id": "2a266e47-9bfc-49fd-8f38-0ee13f4080e3",
   "metadata": {},
   "outputs": [
    {
     "data": {
      "text/plain": [
       "6191        41\n",
       "3420       105\n",
       "2769        76\n",
       "6842       129\n",
       "9506       102\n",
       "         ...  \n",
       "10463      552\n",
       "10956    38478\n",
       "11023       23\n",
       "11764        7\n",
       "12016       49\n",
       "Name: likes, Length: 12026, dtype: int64"
      ]
     },
     "execution_count": 35,
     "metadata": {},
     "output_type": "execute_result"
    }
   ],
   "source": [
    "# 作者ごとにそれまでの年度の絵で獲得した合計のいいね数は？\n",
    "sorted_group = train_df.sort_values('dating_year_late').groupby('principal_maker')\n",
    "\n",
    "# cumsum(): 累積和\n",
    "sorted_group['likes'].cumsum()"
   ]
  },
  {
   "cell_type": "code",
   "execution_count": 41,
   "id": "4a8be0f0-f1f8-40f8-b2f1-682f09d8bc9e",
   "metadata": {},
   "outputs": [
    {
     "name": "stdout",
     "output_type": "stream",
     "text": [
      "タイトルごとの獲得いいね数の合計 count    12026\n",
      "dtype: int64\n"
     ]
    }
   ],
   "source": [
    "# タイトルごとの獲得いいね数の合計\n",
    "title_group = train_df.groupby('title')\n",
    "title_group_likes = title_group['likes'].agg(['count'])\n",
    "print(\"タイトルごとの獲得いいね数の合計\", title_group_likes.sum())"
   ]
  },
  {
   "cell_type": "code",
   "execution_count": null,
   "id": "3c4c72cb-b033-42b6-9e74-ca6ad95e0d40",
   "metadata": {},
   "outputs": [],
   "source": []
  },
  {
   "cell_type": "code",
   "execution_count": 47,
   "id": "dba0d38a-89e9-42e8-959d-1547afa2e6f9",
   "metadata": {},
   "outputs": [
    {
     "data": {
      "text/plain": [
       "acquisition_method  dating_sorting_date\n",
       "bequest             1390.0                 2\n",
       "                    1450.0                 1\n",
       "                    1460.0                 1\n",
       "                    1470.0                 1\n",
       "                    1475.0                 2\n",
       "                                          ..\n",
       "unknown             1893.0                 1\n",
       "                    1898.0                 1\n",
       "                    1903.0                 1\n",
       "                    1917.0                 1\n",
       "                    1923.0                 1\n",
       "Name: principal_maker, Length: 1667, dtype: int64"
      ]
     },
     "execution_count": 47,
     "metadata": {},
     "output_type": "execute_result"
    }
   ],
   "source": [
    "# 年度と獲得手法ごとの作家のユニークな数は?\n",
    "group = train_df.groupby(['acquisition_method', 'dating_sorting_date'])\n",
    "group['principal_maker'].nunique()"
   ]
  },
  {
   "cell_type": "code",
   "execution_count": null,
   "id": "7ffbbb06-f164-48a7-bae5-ad88e211f698",
   "metadata": {},
   "outputs": [],
   "source": []
  },
  {
   "cell_type": "code",
   "execution_count": 53,
   "id": "0cc20fc0-d4c6-441c-9c86-110aa59ee0ae",
   "metadata": {},
   "outputs": [
    {
     "data": {
      "text/plain": [
       "title\n",
       " A Laren Scene                                                                                                                                                                                          Jozef Israëls\n",
       " Wehrmacht militairen op de Afsluitdijk                                                                                                                                                                     anonymous\n",
       " Wehrmacht soldaten schillen aardappelen                                                                                                                                                                    anonymous\n",
       "\"Council of War aboard \"\"The Seven Provinces\"\", the Flagship of Michiel Adriaensz de Ruyter, 10 June 1666, preceding the Four Days' Battle: episode from the Second Anglo-Dutch War\"          Willem van de Velde (I)\n",
       "\"Dresden, Der Zwinger, Totalansicht\", Dresden, Duitsland                                                                                                                                                Stengel & Co.\n",
       "                                                                                                                                                                                                    ...              \n",
       "reliëf op het terras van de Shiva tempel van de Prambanan                                                                                                                                              Kassian Céphas\n",
       "repro naar geschilderd portret Wilhelm II van R. Grabendorff                                                                                                                                      Friedrich Bruckmann\n",
       "s 99. Consulaire soldaten. (Kawass). Syrië.                                                                                                                                                                   Bonfils\n",
       "‘Arrangement in Yellow and Gray’: Effie Deans                                                                                                                                           James Abbott McNeill Whistler\n",
       "‘The Skaters’: Peasants in an Interior                                                                                                                                                             Adriaen van Ostade\n",
       "Name: principal_maker, Length: 10240, dtype: object"
      ]
     },
     "execution_count": 53,
     "metadata": {},
     "output_type": "execute_result"
    }
   ],
   "source": [
    "# 同一タイトル内で、もっとも獲得良いねが多い作家の名前は?\n",
    "group = train_df.sort_values('likes', ascending=False).groupby('title')\n",
    "# いいね数の多い順で並び替え→タイトルごと\n",
    "# →各集合（タイトル）の一番目のレコード＝各タイトルでいいね数が最も多いものに first()でアクセスする\n",
    "group.first()['principal_maker']"
   ]
  },
  {
   "cell_type": "code",
   "execution_count": null,
   "id": "35526b6a-8bab-46d2-9075-bdc4f9477c73",
   "metadata": {},
   "outputs": [],
   "source": []
  },
  {
   "cell_type": "code",
   "execution_count": 54,
   "id": "a6138741-34c0-462c-88dc-355be36f7dc9",
   "metadata": {},
   "outputs": [
    {
     "data": {
      "text/plain": [
       "principal_maker\n",
       "A. Böeseken                                              Portret van een vrouw\n",
       "A. Cucumus & Cie.            Portret van Johan Philip van der Kellen (1831-...\n",
       "A. Davanne & M. Aleo         Kasteel in aanbouw, vermoedelijk aan de Middel...\n",
       "A. Doyen                                Portret van een onbekende man met bril\n",
       "A. Fortier                                  Traptoren van het Chateau de Blois\n",
       "                                                   ...                        \n",
       "weduwe Jacobus van Egmont    Een geestelijk lied, / van de Passie onzes Hee...\n",
       "Édouard Denis Baldus                                      Monumentale gebouwen\n",
       "Émile Bernard                                                    Self-portrait\n",
       "Émile Fürst                  Portret van een onbekende man en vrouw in trad...\n",
       "Étienne Neurdein                                             L'Estérel, Cannes\n",
       "Name: title, Length: 2221, dtype: object"
      ]
     },
     "execution_count": 54,
     "metadata": {},
     "output_type": "execute_result"
    }
   ],
   "source": [
    "# 作者ごとの最高に良いねがもらえた作品名は?\n",
    "group = train_df.sort_values('likes', ascending=False).groupby('principal_maker')\n",
    "group.first()['title']"
   ]
  },
  {
   "cell_type": "code",
   "execution_count": null,
   "id": "4c152f62-cb1b-465a-b2a9-33991e5b59e2",
   "metadata": {},
   "outputs": [],
   "source": []
  },
  {
   "cell_type": "code",
   "execution_count": null,
   "id": "b18504f4-e305-4082-81b6-69889d814af4",
   "metadata": {},
   "outputs": [],
   "source": []
  },
  {
   "cell_type": "code",
   "execution_count": 55,
   "id": "897e2e34-910b-4390-9ca9-e7d291297957",
   "metadata": {},
   "outputs": [
    {
     "data": {
      "text/html": [
       "<div>\n",
       "<style scoped>\n",
       "    .dataframe tbody tr th:only-of-type {\n",
       "        vertical-align: middle;\n",
       "    }\n",
       "\n",
       "    .dataframe tbody tr th {\n",
       "        vertical-align: top;\n",
       "    }\n",
       "\n",
       "    .dataframe thead th {\n",
       "        text-align: right;\n",
       "    }\n",
       "</style>\n",
       "<table border=\"1\" class=\"dataframe\">\n",
       "  <thead>\n",
       "    <tr style=\"text-align: right;\">\n",
       "      <th></th>\n",
       "      <th>principal_maker</th>\n",
       "      <th>size</th>\n",
       "      <th>sub_title</th>\n",
       "      <th>min</th>\n",
       "      <th>max</th>\n",
       "      <th>mean</th>\n",
       "    </tr>\n",
       "  </thead>\n",
       "  <tbody>\n",
       "    <tr>\n",
       "      <th>0</th>\n",
       "      <td>Jan Hackaert</td>\n",
       "      <td>3</td>\n",
       "      <td>3</td>\n",
       "      <td>1660.0</td>\n",
       "      <td>1660.0</td>\n",
       "      <td>1660.000000</td>\n",
       "    </tr>\n",
       "    <tr>\n",
       "      <th>1</th>\n",
       "      <td>Richard Tepe</td>\n",
       "      <td>180</td>\n",
       "      <td>149</td>\n",
       "      <td>1900.0</td>\n",
       "      <td>1920.0</td>\n",
       "      <td>1900.194444</td>\n",
       "    </tr>\n",
       "    <tr>\n",
       "      <th>2</th>\n",
       "      <td>Tresling &amp; Comp.</td>\n",
       "      <td>1</td>\n",
       "      <td>1</td>\n",
       "      <td>1860.0</td>\n",
       "      <td>1860.0</td>\n",
       "      <td>1860.000000</td>\n",
       "    </tr>\n",
       "    <tr>\n",
       "      <th>3</th>\n",
       "      <td>Bernard te Gempt</td>\n",
       "      <td>1</td>\n",
       "      <td>1</td>\n",
       "      <td>1850.0</td>\n",
       "      <td>1850.0</td>\n",
       "      <td>1850.000000</td>\n",
       "    </tr>\n",
       "    <tr>\n",
       "      <th>4</th>\n",
       "      <td>anonymous</td>\n",
       "      <td>1692</td>\n",
       "      <td>1413</td>\n",
       "      <td>1250.0</td>\n",
       "      <td>1952.0</td>\n",
       "      <td>1783.027778</td>\n",
       "    </tr>\n",
       "    <tr>\n",
       "      <th>...</th>\n",
       "      <td>...</td>\n",
       "      <td>...</td>\n",
       "      <td>...</td>\n",
       "      <td>...</td>\n",
       "      <td>...</td>\n",
       "      <td>...</td>\n",
       "    </tr>\n",
       "    <tr>\n",
       "      <th>12021</th>\n",
       "      <td>Delboy &amp; Baer</td>\n",
       "      <td>1</td>\n",
       "      <td>1</td>\n",
       "      <td>1900.0</td>\n",
       "      <td>1900.0</td>\n",
       "      <td>1900.000000</td>\n",
       "    </tr>\n",
       "    <tr>\n",
       "      <th>12022</th>\n",
       "      <td>Abraham Allard</td>\n",
       "      <td>13</td>\n",
       "      <td>13</td>\n",
       "      <td>1701.0</td>\n",
       "      <td>1703.0</td>\n",
       "      <td>1701.384615</td>\n",
       "    </tr>\n",
       "    <tr>\n",
       "      <th>12023</th>\n",
       "      <td>Noach van der Meer (II)</td>\n",
       "      <td>2</td>\n",
       "      <td>2</td>\n",
       "      <td>1778.0</td>\n",
       "      <td>1787.0</td>\n",
       "      <td>1782.500000</td>\n",
       "    </tr>\n",
       "    <tr>\n",
       "      <th>12024</th>\n",
       "      <td>Romeyn de Hooghe</td>\n",
       "      <td>132</td>\n",
       "      <td>129</td>\n",
       "      <td>1655.0</td>\n",
       "      <td>1758.0</td>\n",
       "      <td>1682.318182</td>\n",
       "    </tr>\n",
       "    <tr>\n",
       "      <th>12025</th>\n",
       "      <td>Bartolommeo Suardi</td>\n",
       "      <td>1</td>\n",
       "      <td>1</td>\n",
       "      <td>1500.0</td>\n",
       "      <td>1500.0</td>\n",
       "      <td>1500.000000</td>\n",
       "    </tr>\n",
       "  </tbody>\n",
       "</table>\n",
       "<p>12026 rows × 6 columns</p>\n",
       "</div>"
      ],
      "text/plain": [
       "               principal_maker  size  sub_title     min     max         mean\n",
       "0                 Jan Hackaert     3          3  1660.0  1660.0  1660.000000\n",
       "1                 Richard Tepe   180        149  1900.0  1920.0  1900.194444\n",
       "2             Tresling & Comp.     1          1  1860.0  1860.0  1860.000000\n",
       "3             Bernard te Gempt     1          1  1850.0  1850.0  1850.000000\n",
       "4                    anonymous  1692       1413  1250.0  1952.0  1783.027778\n",
       "...                        ...   ...        ...     ...     ...          ...\n",
       "12021            Delboy & Baer     1          1  1900.0  1900.0  1900.000000\n",
       "12022           Abraham Allard    13         13  1701.0  1703.0  1701.384615\n",
       "12023  Noach van der Meer (II)     2          2  1778.0  1787.0  1782.500000\n",
       "12024         Romeyn de Hooghe   132        129  1655.0  1758.0  1682.318182\n",
       "12025       Bartolommeo Suardi     1          1  1500.0  1500.0  1500.000000\n",
       "\n",
       "[12026 rows x 6 columns]"
      ]
     },
     "execution_count": 55,
     "metadata": {},
     "output_type": "execute_result"
    }
   ],
   "source": [
    "# データ同士のマージ\n",
    "# principal_makerごとの要素数、サブタイトルのユニーク数、min, max, meanなどを\n",
    "# train_dfのprincipal_maker列へ紐付けする\n",
    "pd.merge(train_df['principal_maker'], \n",
    "        agg_df,\n",
    "        on='principal_maker', \n",
    "        how='left')"
   ]
  },
  {
   "cell_type": "code",
   "execution_count": 57,
   "id": "be819060-43b8-4f1a-939f-1cbfa4c146e2",
   "metadata": {},
   "outputs": [
    {
     "data": {
      "text/plain": [
       "(12026, 19)"
      ]
     },
     "execution_count": 57,
     "metadata": {},
     "output_type": "execute_result"
    }
   ],
   "source": [
    "train_df.shape"
   ]
  },
  {
   "cell_type": "code",
   "execution_count": null,
   "id": "892b0966-3f3f-4f9d-bb21-1fdefc1d9074",
   "metadata": {},
   "outputs": [],
   "source": []
  }
 ],
 "metadata": {
  "kernelspec": {
   "display_name": "Python 3",
   "language": "python",
   "name": "python3"
  },
  "language_info": {
   "codemirror_mode": {
    "name": "ipython",
    "version": 3
   },
   "file_extension": ".py",
   "mimetype": "text/x-python",
   "name": "python",
   "nbconvert_exporter": "python",
   "pygments_lexer": "ipython3",
   "version": "3.8.8"
  }
 },
 "nbformat": 4,
 "nbformat_minor": 5
}
